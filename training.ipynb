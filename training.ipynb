{
 "cells": [
  {
   "cell_type": "code",
   "execution_count": 18,
   "metadata": {},
   "outputs": [],
   "source": [
    "import matplotlib.pyplot as plt\n",
    "import numpy as np\n",
    "import PIL\n",
    "import tensorflow as tf\n",
    "import pandas as pd\n",
    "\n",
    "from tensorflow import keras\n",
    "from tensorflow.keras import layers\n",
    "from tensorflow.keras.models import Sequential\n",
    "import datetime\n",
    "\n",
    "import tensorflow as tf\n",
    "import tfimm\n",
    "\n",
    "import os\n",
    "import tensorflow as tf\n",
    "import matplotlib.pyplot as plt\n",
    "import numpy"
   ]
  },
  {
   "cell_type": "code",
   "execution_count": 21,
   "metadata": {},
   "outputs": [],
   "source": [
    "def get_first_image_from_each_directory(root_dir):\n",
    "    image_paths = []\n",
    "\n",
    "    for class_dir in os.listdir(root_dir):\n",
    "        full_class_dir = os.path.join(root_dir, class_dir)\n",
    "        if os.path.isdir(full_class_dir):\n",
    "            first_image = sorted(os.listdir(full_class_dir))[0]\n",
    "            image_path = os.path.join(full_class_dir, first_image)\n",
    "            image_paths.append(image_path)\n",
    "\n",
    "    return image_paths\n",
    "\n",
    "def load_and_preprocess_image(image_path):\n",
    "    image = tf.io.read_file(image_path)\n",
    "    image = tf.image.decode_png(image, channels=3)\n",
    "    left_half = tf.image.crop_to_bounding_box(image, offset_height=0, offset_width=0, target_height=512, target_width=512)\n",
    "    image = tf.image.resize(left_half, [224, 224])  # Resize to a fixed size, e.g., 224x224\n",
    "    image = image / 255.0  # Normalize to [0,1] range\n",
    "    return image\n",
    "\n",
    "def create_dataset(image_paths):\n",
    "    image_paths = tf.convert_to_tensor(image_paths)\n",
    "\n",
    "    dataset = tf.data.Dataset.from_tensor_slices(image_paths)\n",
    "    dataset = dataset.map(lambda path: load_and_preprocess_image(path))\n",
    "    return dataset\n",
    "\n",
    "# Define the root directory of your dataset\n",
    "root_dir = \"./data/OIMHS dataset/Images\"\n",
    "\n",
    "# Get the first image from each directory\n",
    "image_paths = get_first_image_from_each_directory(root_dir)\n",
    "\n",
    "# Create the dataset\n",
    "image_dataset = create_dataset(image_paths)"
   ]
  },
  {
   "cell_type": "code",
   "execution_count": 23,
   "metadata": {},
   "outputs": [],
   "source": [
    "df = pd.read_excel('./data/OIMHS dataset/Demographics of the participants.xlsx')\n",
    "df[\"Age(years)\"]\n",
    "labels = df[\"Age(years)\"]\n",
    "labels_dataset = tf.data.Dataset.from_tensor_slices(labels)\n",
    "full_dataset = tf.data.Dataset.zip((image_dataset,labels_dataset))\n",
    "# full_dataset = full_dataset.map(lambda x,y: {\"image\":x,\"label\":y})"
   ]
  },
  {
   "cell_type": "code",
   "execution_count": 34,
   "metadata": {},
   "outputs": [],
   "source": [
    "full_dataset= full_dataset.batch(1)"
   ]
  },
  {
   "cell_type": "code",
   "execution_count": 35,
   "metadata": {},
   "outputs": [
    {
     "name": "stdout",
     "output_type": "stream",
     "text": [
      "(<tf.Tensor: shape=(1, 224, 224, 3), dtype=float32, numpy=\n",
      "array([[[[0.10196079, 0.10196079, 0.10196079],\n",
      "         [0.10196079, 0.10196079, 0.10196079],\n",
      "         [0.10196079, 0.10196079, 0.10196079],\n",
      "         ...,\n",
      "         [0.10196079, 0.10196079, 0.10196079],\n",
      "         [0.10196079, 0.10196079, 0.10196079],\n",
      "         [0.10196079, 0.10196079, 0.10196079]],\n",
      "\n",
      "        [[0.10196079, 0.10196079, 0.10196079],\n",
      "         [0.10196079, 0.10196079, 0.10196079],\n",
      "         [0.10196079, 0.10196079, 0.10196079],\n",
      "         ...,\n",
      "         [0.10196079, 0.10196079, 0.10196079],\n",
      "         [0.10196079, 0.10196079, 0.10196079],\n",
      "         [0.10196079, 0.10196079, 0.10196079]],\n",
      "\n",
      "        [[0.10196079, 0.10196079, 0.10196079],\n",
      "         [0.10196079, 0.10196079, 0.10196079],\n",
      "         [0.10196079, 0.10196079, 0.10196079],\n",
      "         ...,\n",
      "         [0.10196079, 0.10196079, 0.10196079],\n",
      "         [0.10196079, 0.10196079, 0.10196079],\n",
      "         [0.10196079, 0.10196079, 0.10196079]],\n",
      "\n",
      "        ...,\n",
      "\n",
      "        [[0.13945661, 0.13945661, 0.13945661],\n",
      "         [0.15400271, 0.15400271, 0.15400271],\n",
      "         [0.1735503 , 0.1735503 , 0.1735503 ],\n",
      "         ...,\n",
      "         [0.14651932, 0.14651932, 0.14651932],\n",
      "         [0.17506976, 0.17506976, 0.17506976],\n",
      "         [0.20666245, 0.20666245, 0.20666245]],\n",
      "\n",
      "        [[0.20678216, 0.20678216, 0.20678216],\n",
      "         [0.14531764, 0.14531764, 0.14531764],\n",
      "         [0.17641127, 0.17641127, 0.17641127],\n",
      "         ...,\n",
      "         [0.14901912, 0.14901912, 0.14901912],\n",
      "         [0.16078432, 0.16078432, 0.16078432],\n",
      "         [0.24816182, 0.24816182, 0.24816182]],\n",
      "\n",
      "        [[0.11492527, 0.11492527, 0.11492527],\n",
      "         [0.1386545 , 0.1386545 , 0.1386545 ],\n",
      "         [0.2524607 , 0.2524607 , 0.2524607 ],\n",
      "         ...,\n",
      "         [0.14055508, 0.14055508, 0.14055508],\n",
      "         [0.15206204, 0.15206204, 0.15206204],\n",
      "         [0.21342395, 0.21342395, 0.21342395]]]], dtype=float32)>, <tf.Tensor: shape=(1,), dtype=int64, numpy=array([58], dtype=int64)>)\n"
     ]
    }
   ],
   "source": [
    "for data in full_dataset.take(1):\n",
    "    print(data)"
   ]
  },
  {
   "cell_type": "code",
   "execution_count": 36,
   "metadata": {},
   "outputs": [],
   "source": [
    "train_dataset = full_dataset.take(int(0.8 * len(full_dataset)))  # Take 80% of the data for training\n",
    "validation_dataset = full_dataset.skip(int(0.8 * len(full_dataset)))"
   ]
  },
  {
   "cell_type": "code",
   "execution_count": 37,
   "metadata": {},
   "outputs": [],
   "source": [
    "val_batches = tf.data.experimental.cardinality(validation_dataset)\n",
    "test_dataset = validation_dataset.take(val_batches // 5)\n",
    "validation_dataset = validation_dataset.skip(val_batches // 5)"
   ]
  },
  {
   "cell_type": "code",
   "execution_count": 38,
   "metadata": {},
   "outputs": [],
   "source": [
    "AUTOTUNE = tf.data.AUTOTUNE\n",
    "\n",
    "train_ds = train_dataset.cache().shuffle(1000).prefetch(buffer_size=AUTOTUNE)\n",
    "val_ds = validation_dataset.cache().prefetch(buffer_size=AUTOTUNE)"
   ]
  },
  {
   "cell_type": "code",
   "execution_count": 39,
   "metadata": {},
   "outputs": [
    {
     "name": "stdout",
     "output_type": "stream",
     "text": [
      "Model: \"model_2\"\n",
      "_________________________________________________________________\n",
      " Layer (type)                Output Shape              Param #   \n",
      "=================================================================\n",
      " input_3 (InputLayer)        [(None, 224, 224, 3)]     0         \n",
      "                                                                 \n",
      " vit_large_patch16_224 (ViT)  (None, 1024)             303301632 \n",
      "                                                                 \n",
      " head (Dense)                (None, 1)                 1025      \n",
      "                                                                 \n",
      "=================================================================\n",
      "Total params: 303,302,657\n",
      "Trainable params: 1,025\n",
      "Non-trainable params: 303,301,632\n",
      "_________________________________________________________________\n"
     ]
    }
   ],
   "source": [
    "# Create the base model\n",
    "model_name = \"vit_large_patch16_224\"\n",
    "base_model = tfimm.create_model(\n",
    "    model_name,\n",
    "    nb_classes=0  # this removes the final layer\n",
    ")\n",
    "\n",
    "# Load base_model weights (by_name=True because nb_classes=0 removes a layer)\n",
    "model_path = \"RETFound_MAE/RETFound_cfp_weights.h5\"\n",
    "model_path = \"RETFound_oct_weights.h5\"\n",
    "\n",
    "base_model.load_weights(model_path, by_name=True, skip_mismatch=False)\n",
    "base_model.trainable = False\n",
    "# base_model.summary()\n",
    "\n",
    "# Input layer\n",
    "input_shape = (224, 224, 3)\n",
    "inputs = tf.keras.Input(shape=input_shape)\n",
    "\n",
    "# ViT layer\n",
    "x = base_model(inputs)\n",
    "\n",
    "# Add layers to match the original architecture leading up to the 'head' layer\n",
    "# x = tf.keras.layers.LayerNormalization()(x)\n",
    "# x = tf.keras.layers.Dense(1024, activation='relu')(x)\n",
    "prediction = tf.keras.layers.Dense(1, activation='relu',name='head')(x)\n",
    "\n",
    "\n",
    "# Define the model\n",
    "model = tf.keras.Model(inputs=inputs, outputs=prediction)\n",
    "model.summary()\n"
   ]
  },
  {
   "cell_type": "code",
   "execution_count": 40,
   "metadata": {},
   "outputs": [],
   "source": [
    "model.compile(optimizer='adam',\n",
    "              loss=tf.keras.losses.MeanAbsoluteError(),\n",
    "              metrics=['mean_absolute_error'])"
   ]
  },
  {
   "cell_type": "code",
   "execution_count": 41,
   "metadata": {},
   "outputs": [
    {
     "name": "stdout",
     "output_type": "stream",
     "text": [
      "The tensorboard extension is already loaded. To reload it, use:\n",
      "  %reload_ext tensorboard\n"
     ]
    }
   ],
   "source": [
    "%load_ext tensorboard\n",
    "# launch from console with command: tensorboard --logdir=./"
   ]
  },
  {
   "cell_type": "code",
   "execution_count": 68,
   "metadata": {},
   "outputs": [
    {
     "name": "stdout",
     "output_type": "stream",
     "text": [
      "Epoch 1/30\n",
      "100/100 [==============================] - 42s 420ms/step - loss: 7.0251 - mean_absolute_error: 7.0251 - val_loss: 8.0992 - val_mean_absolute_error: 8.0992\n",
      "Epoch 2/30\n",
      "100/100 [==============================] - 41s 407ms/step - loss: 7.0519 - mean_absolute_error: 7.0519 - val_loss: 8.0723 - val_mean_absolute_error: 8.0723\n",
      "Epoch 3/30\n",
      "100/100 [==============================] - 41s 414ms/step - loss: 6.9584 - mean_absolute_error: 6.9584 - val_loss: 8.3691 - val_mean_absolute_error: 8.3691\n",
      "Epoch 4/30\n",
      "100/100 [==============================] - 42s 417ms/step - loss: 6.9291 - mean_absolute_error: 6.9291 - val_loss: 8.0717 - val_mean_absolute_error: 8.0717\n",
      "Epoch 5/30\n",
      "100/100 [==============================] - 41s 416ms/step - loss: 7.0337 - mean_absolute_error: 7.0337 - val_loss: 8.1961 - val_mean_absolute_error: 8.1961\n",
      "Epoch 6/30\n",
      "100/100 [==============================] - 41s 411ms/step - loss: 6.8411 - mean_absolute_error: 6.8411 - val_loss: 8.0693 - val_mean_absolute_error: 8.0693\n",
      "Epoch 7/30\n",
      "100/100 [==============================] - 41s 410ms/step - loss: 6.9813 - mean_absolute_error: 6.9813 - val_loss: 8.1715 - val_mean_absolute_error: 8.1715\n",
      "Epoch 8/30\n",
      "100/100 [==============================] - 41s 416ms/step - loss: 6.8988 - mean_absolute_error: 6.8988 - val_loss: 8.3533 - val_mean_absolute_error: 8.3533\n",
      "Epoch 9/30\n",
      "100/100 [==============================] - 41s 410ms/step - loss: 6.9049 - mean_absolute_error: 6.9049 - val_loss: 8.3011 - val_mean_absolute_error: 8.3011\n",
      "Epoch 10/30\n",
      "100/100 [==============================] - 41s 416ms/step - loss: 6.9988 - mean_absolute_error: 6.9988 - val_loss: 8.0792 - val_mean_absolute_error: 8.0792\n",
      "Epoch 11/30\n",
      "100/100 [==============================] - 41s 414ms/step - loss: 6.8221 - mean_absolute_error: 6.8221 - val_loss: 8.6256 - val_mean_absolute_error: 8.6256\n",
      "Epoch 12/30\n",
      "100/100 [==============================] - 42s 419ms/step - loss: 6.8858 - mean_absolute_error: 6.8858 - val_loss: 8.2198 - val_mean_absolute_error: 8.2198\n",
      "Epoch 13/30\n",
      "100/100 [==============================] - 41s 409ms/step - loss: 6.7888 - mean_absolute_error: 6.7888 - val_loss: 8.1229 - val_mean_absolute_error: 8.1229\n",
      "Epoch 14/30\n",
      "100/100 [==============================] - 42s 418ms/step - loss: 6.7560 - mean_absolute_error: 6.7560 - val_loss: 8.2561 - val_mean_absolute_error: 8.2561\n",
      "Epoch 15/30\n",
      "100/100 [==============================] - 42s 421ms/step - loss: 6.7469 - mean_absolute_error: 6.7469 - val_loss: 8.0015 - val_mean_absolute_error: 8.0015\n",
      "Epoch 16/30\n",
      "100/100 [==============================] - 42s 420ms/step - loss: 6.8083 - mean_absolute_error: 6.8083 - val_loss: 8.1022 - val_mean_absolute_error: 8.1022\n",
      "Epoch 17/30\n",
      "100/100 [==============================] - ETA: 0s - loss: 6.7857 - mean_absolute_error: 6.7857"
     ]
    }
   ],
   "source": [
    "log_dir = \"logs/fit/\" + datetime.datetime.now().strftime(\"%Y%m%d-%H%M%S\")\n",
    "tensorboard_callback = tf.keras.callbacks.TensorBoard(log_dir=log_dir, histogram_freq=1)\n",
    "\n",
    "epochs=30\n",
    "history = model.fit(\n",
    "  train_ds,\n",
    "  validation_data=val_ds,\n",
    "  epochs=epochs,\n",
    "  callbacks=[tensorboard_callback]\n",
    ")"
   ]
  },
  {
   "cell_type": "code",
   "execution_count": null,
   "metadata": {},
   "outputs": [],
   "source": [
    "predictions = model.predict(test_dataset)"
   ]
  },
  {
   "cell_type": "code",
   "execution_count": null,
   "metadata": {},
   "outputs": [
    {
     "name": "stdout",
     "output_type": "stream",
     "text": [
      "tf.Tensor([74], shape=(1,), dtype=int64)\n",
      "tf.Tensor([59], shape=(1,), dtype=int64)\n",
      "tf.Tensor([51], shape=(1,), dtype=int64)\n",
      "tf.Tensor([51], shape=(1,), dtype=int64)\n",
      "tf.Tensor([78], shape=(1,), dtype=int64)\n"
     ]
    }
   ],
   "source": [
    "y_true = []\n",
    "for images, labels in test_dataset.take(6):\n",
    "    y_true.append(tf.cast(labels, tf.int32))\n",
    "    print(labels)"
   ]
  },
  {
   "cell_type": "code",
   "execution_count": null,
   "metadata": {},
   "outputs": [
    {
     "data": {
      "text/plain": [
       "array([9.87556458])"
      ]
     },
     "execution_count": 63,
     "metadata": {},
     "output_type": "execute_result"
    }
   ],
   "source": [
    "y_true[0].numpy() - predictions[0]"
   ]
  },
  {
   "cell_type": "code",
   "execution_count": null,
   "metadata": {},
   "outputs": [],
   "source": [
    "sumdiff=0\n",
    "for i in range(len(y_true)):\n",
    "    absdiff = np.abs(y_true[i].numpy() - predictions[i])\n",
    "    sumdiff+=absdiff\n",
    "mean_diff = sumdiff/(len(y_true))"
   ]
  },
  {
   "cell_type": "code",
   "execution_count": null,
   "metadata": {},
   "outputs": [
    {
     "data": {
      "text/plain": [
       "array([11.72939911])"
      ]
     },
     "execution_count": 67,
     "metadata": {},
     "output_type": "execute_result"
    }
   ],
   "source": [
    "mean_diff\n"
   ]
  }
 ],
 "metadata": {
  "kernelspec": {
   "display_name": "retfound_mae",
   "language": "python",
   "name": "python3"
  },
  "language_info": {
   "codemirror_mode": {
    "name": "ipython",
    "version": 3
   },
   "file_extension": ".py",
   "mimetype": "text/x-python",
   "name": "python",
   "nbconvert_exporter": "python",
   "pygments_lexer": "ipython3",
   "version": "3.9.19"
  }
 },
 "nbformat": 4,
 "nbformat_minor": 2
}
